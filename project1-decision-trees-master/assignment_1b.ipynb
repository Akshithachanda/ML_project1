{
 "cells": [
  {
   "cell_type": "markdown",
   "metadata": {},
   "source": [
    "# Part 1b: Predicting survival of Titanic passengers with decision trees\n",
    "**DUE September 17th 2018**\n",
    "\n",
    "## Introduction\n",
    "\n",
    "The code for this project consists of several Python files, some of\n",
    "which you will need to read and understand in order to complete the\n",
    "assignment, and some of which you can ignore.\n",
    "\n",
    "### Files You'll Edit\n",
    "\n",
    "``assignment_1b.ipynb``: Will be your edited copy of this notebook pertaining to part 1a of the assignment\n",
    "\n",
    "``features.py``: Simple feature engineering function\n",
    "\n",
    "\n",
    "\n",
    "### Files you might want to look at\n",
    "  \n",
    "``binary.py``: Our generic interface for binary classifiers (actually\n",
    "works for regression and other types of classification, too).\n",
    "\n",
    "``datasets.py``: Where a handful of test data sets are stored.\n",
    "\n",
    "``util.py``: A handful of useful utility functions: these will\n",
    "undoubtedly be helpful to you, so take a look!\n",
    "\n",
    "``runClassifier.py``: A few wrappers for doing useful things with\n",
    "classifiers, like training them, generating learning curves, etc.\n",
    "\n",
    "``mlGraphics.py``: A few useful plotting commands\n",
    "\n",
    "``data/*``: all of the datasets we'll use.\n",
    "\n",
    "### What to Submit\n",
    "\n",
    "You will hand in all of the python files listed above under \"Files\n",
    "you'll edit\". You will also have to answer the written questions in this\n",
    "notebook denoted **Q#:** in the corresponding cells denoted with **A#:**.\n",
    "\n",
    "#### Autograding\n",
    "\n",
    "Your code will be autograded for technical correctness. Please **do\n",
    "not** change the names of any provided functions or classes within the\n",
    "code, or you will wreak havoc on the autograder. However, the\n",
    "correctness of your implementation -- not the autograder's output --\n",
    "will be the final judge of your score.  If necessary, we will review\n",
    "and grade assignments individually to ensure that you receive due\n",
    "credit for your work."
   ]
  },
  {
   "cell_type": "markdown",
   "metadata": {},
   "source": [
    "## A quick look at the data"
   ]
  },
  {
   "cell_type": "markdown",
   "metadata": {},
   "source": [
    "In `data/` you will find the following files:\n",
    "    `titanic_train.csv`\n",
    "        \n",
    "    `titanic_test.csv`\n",
    "    \n",
    "Let's take a look at the CSV file using the [Pandas] package and import other packages we think we will need."
   ]
  },
  {
   "cell_type": "code",
   "execution_count": 50,
   "metadata": {},
   "outputs": [],
   "source": [
    "# Import modules\n",
    "import pandas as pd\n",
    "import matplotlib.pyplot as plt\n",
    "#import seaborn as sns\n",
    "import re\n",
    "import numpy as np\n",
    "from sklearn import tree\n",
    "from sklearn.model_selection import train_test_split\n",
    "from sklearn.linear_model import LogisticRegression\n",
    "from sklearn.model_selection import GridSearchCV\n",
    "\n",
    "# Figures inline and set visualization style\n",
    "%matplotlib inline\n",
    "#sns.set()\n",
    "import pandas as pd\n",
    "import dt\n",
    "import matplotlib.pyplot as plt\n",
    "import features\n",
    "import numpy as np\n",
    "import binary\n",
    "import runClassifier\n",
    "import pandas as pd\n",
    "import random\n",
    "import re as re\n",
    "from IPython.display import display\n",
    "from sklearn.model_selection import train_test_split\n",
    "get_ipython().run_line_magic('matplotlib', 'inline')"
   ]
  },
  {
   "cell_type": "markdown",
   "metadata": {},
   "source": [
    "Pandas lets us take read CSVs easily and allows us to manipulate the data with ease. So lets take a look at the data!"
   ]
  },
  {
   "cell_type": "code",
   "execution_count": 51,
   "metadata": {},
   "outputs": [
    {
     "data": {
      "text/html": [
       "<div>\n",
       "<style scoped>\n",
       "    .dataframe tbody tr th:only-of-type {\n",
       "        vertical-align: middle;\n",
       "    }\n",
       "\n",
       "    .dataframe tbody tr th {\n",
       "        vertical-align: top;\n",
       "    }\n",
       "\n",
       "    .dataframe thead th {\n",
       "        text-align: right;\n",
       "    }\n",
       "</style>\n",
       "<table border=\"1\" class=\"dataframe\">\n",
       "  <thead>\n",
       "    <tr style=\"text-align: right;\">\n",
       "      <th></th>\n",
       "      <th>PassengerId</th>\n",
       "      <th>Survived</th>\n",
       "      <th>HighClassTicket</th>\n",
       "      <th>IsOld</th>\n",
       "      <th>hasLargeFamily</th>\n",
       "      <th>isSingle</th>\n",
       "      <th>hadNiceCabin</th>\n",
       "      <th>isAristocrat</th>\n",
       "      <th>Fare</th>\n",
       "      <th>Sex</th>\n",
       "    </tr>\n",
       "  </thead>\n",
       "  <tbody>\n",
       "    <tr>\n",
       "      <th>0</th>\n",
       "      <td>128</td>\n",
       "      <td>1</td>\n",
       "      <td>0</td>\n",
       "      <td>0</td>\n",
       "      <td>0</td>\n",
       "      <td>1</td>\n",
       "      <td>0</td>\n",
       "      <td>0</td>\n",
       "      <td>7.1417</td>\n",
       "      <td>male</td>\n",
       "    </tr>\n",
       "    <tr>\n",
       "      <th>1</th>\n",
       "      <td>1037</td>\n",
       "      <td>0</td>\n",
       "      <td>0</td>\n",
       "      <td>0</td>\n",
       "      <td>0</td>\n",
       "      <td>0</td>\n",
       "      <td>0</td>\n",
       "      <td>0</td>\n",
       "      <td>18.0000</td>\n",
       "      <td>male</td>\n",
       "    </tr>\n",
       "    <tr>\n",
       "      <th>2</th>\n",
       "      <td>633</td>\n",
       "      <td>1</td>\n",
       "      <td>1</td>\n",
       "      <td>0</td>\n",
       "      <td>0</td>\n",
       "      <td>1</td>\n",
       "      <td>1</td>\n",
       "      <td>0</td>\n",
       "      <td>30.5000</td>\n",
       "      <td>male</td>\n",
       "    </tr>\n",
       "    <tr>\n",
       "      <th>3</th>\n",
       "      <td>1051</td>\n",
       "      <td>1</td>\n",
       "      <td>0</td>\n",
       "      <td>0</td>\n",
       "      <td>0</td>\n",
       "      <td>0</td>\n",
       "      <td>0</td>\n",
       "      <td>0</td>\n",
       "      <td>13.7750</td>\n",
       "      <td>female</td>\n",
       "    </tr>\n",
       "    <tr>\n",
       "      <th>4</th>\n",
       "      <td>727</td>\n",
       "      <td>1</td>\n",
       "      <td>1</td>\n",
       "      <td>0</td>\n",
       "      <td>0</td>\n",
       "      <td>0</td>\n",
       "      <td>0</td>\n",
       "      <td>0</td>\n",
       "      <td>21.0000</td>\n",
       "      <td>female</td>\n",
       "    </tr>\n",
       "    <tr>\n",
       "      <th>5</th>\n",
       "      <td>1056</td>\n",
       "      <td>0</td>\n",
       "      <td>1</td>\n",
       "      <td>0</td>\n",
       "      <td>0</td>\n",
       "      <td>1</td>\n",
       "      <td>0</td>\n",
       "      <td>0</td>\n",
       "      <td>13.0000</td>\n",
       "      <td>male</td>\n",
       "    </tr>\n",
       "    <tr>\n",
       "      <th>6</th>\n",
       "      <td>833</td>\n",
       "      <td>0</td>\n",
       "      <td>0</td>\n",
       "      <td>0</td>\n",
       "      <td>0</td>\n",
       "      <td>1</td>\n",
       "      <td>0</td>\n",
       "      <td>0</td>\n",
       "      <td>7.2292</td>\n",
       "      <td>male</td>\n",
       "    </tr>\n",
       "    <tr>\n",
       "      <th>7</th>\n",
       "      <td>477</td>\n",
       "      <td>0</td>\n",
       "      <td>1</td>\n",
       "      <td>0</td>\n",
       "      <td>0</td>\n",
       "      <td>0</td>\n",
       "      <td>0</td>\n",
       "      <td>0</td>\n",
       "      <td>21.0000</td>\n",
       "      <td>male</td>\n",
       "    </tr>\n",
       "    <tr>\n",
       "      <th>8</th>\n",
       "      <td>1018</td>\n",
       "      <td>0</td>\n",
       "      <td>0</td>\n",
       "      <td>1</td>\n",
       "      <td>0</td>\n",
       "      <td>1</td>\n",
       "      <td>0</td>\n",
       "      <td>0</td>\n",
       "      <td>7.7958</td>\n",
       "      <td>male</td>\n",
       "    </tr>\n",
       "    <tr>\n",
       "      <th>9</th>\n",
       "      <td>688</td>\n",
       "      <td>0</td>\n",
       "      <td>0</td>\n",
       "      <td>1</td>\n",
       "      <td>0</td>\n",
       "      <td>1</td>\n",
       "      <td>0</td>\n",
       "      <td>0</td>\n",
       "      <td>10.1708</td>\n",
       "      <td>male</td>\n",
       "    </tr>\n",
       "  </tbody>\n",
       "</table>\n",
       "</div>"
      ],
      "text/plain": [
       "   PassengerId  Survived  HighClassTicket  IsOld  hasLargeFamily  isSingle  \\\n",
       "0          128         1                0      0               0         1   \n",
       "1         1037         0                0      0               0         0   \n",
       "2          633         1                1      0               0         1   \n",
       "3         1051         1                0      0               0         0   \n",
       "4          727         1                1      0               0         0   \n",
       "5         1056         0                1      0               0         1   \n",
       "6          833         0                0      0               0         1   \n",
       "7          477         0                1      0               0         0   \n",
       "8         1018         0                0      1               0         1   \n",
       "9          688         0                0      1               0         1   \n",
       "\n",
       "   hadNiceCabin  isAristocrat     Fare     Sex  \n",
       "0             0             0   7.1417    male  \n",
       "1             0             0  18.0000    male  \n",
       "2             1             0  30.5000    male  \n",
       "3             0             0  13.7750  female  \n",
       "4             0             0  21.0000  female  \n",
       "5             0             0  13.0000    male  \n",
       "6             0             0   7.2292    male  \n",
       "7             0             0  21.0000    male  \n",
       "8             0             0   7.7958    male  \n",
       "9             0             0  10.1708    male  "
      ]
     },
     "execution_count": 51,
     "metadata": {},
     "output_type": "execute_result"
    }
   ],
   "source": [
    "train_df = pd.read_csv('data/titanic_train.csv')\n",
    "train_df.head(10) # just print first few lines of the data"
   ]
  },
  {
   "cell_type": "markdown",
   "metadata": {},
   "source": [
    "Each passenger is identified with a unique PassengerId and is labeled with whether or not she survived the Titanic accident. We can also see that we have some simple information about each of them. In each column, 1 signifies True and 0 False. Since the decision tree we have implemented is quite simple and knows to split on only binary features (either 1 or 0), we have preprocessed the data and have already binaraized some features for you. They are as follows:\n",
    "- `HighClassTicket`: Signifies whether or not the passenger bought a ticket with some extra perks\n",
    "- `IsOld`: Signifies whether or not the passenger is older than 22\n",
    "- `hasLargeFamily`: Signifies whether the passenger had more than 4 other family members on board\n",
    "- `isSingle`: Signifies whether the passenger had no other family members on board\n",
    "- `hadNiceCabin`: Signifies whether the passenger purchased an upgraded cabin\n",
    "- `isAristocrat`: Signifies whether the passenger had an aristocratic title in his/her name (E.g. Sir, Lord, Dutchess etc.)\n",
    "\n",
    "However, you have to do some **feature engineering** and 'binarize' the remainding columns."
   ]
  },
  {
   "cell_type": "markdown",
   "metadata": {},
   "source": [
    "Unfortunately, the simple decision tree that we implemented does not know how to find partitions in features that are strings or features that are continuous. We will have to do some **feature engineering** to solve this. Binarizing the `Sex` feature is simple. However you will have to figure out a reasonable threshold for binarizing the `Fare` feature.\n",
    "\n",
    "Do some data analysis below to find a reasonbable. **Plot a chart**  and **explain** why you chose the threshold you chose.\n",
    "(Hint: Use histograms, analyze the survival rates and make a reasobable guess. Or find the threshold that minimizes impurity!)\n",
    "\n",
    "\n",
    "Also, **complete** the `binarize_features` function in `binarize.py`, this function should return a Pandas dataframe with the same number of columns, and binarize the `Fare` and `Sex` columns to `int`s."
   ]
  },
  {
   "cell_type": "code",
   "execution_count": 52,
   "metadata": {
    "scrolled": false
   },
   "outputs": [
    {
     "data": {
      "image/png": "[encoded data removed]",
      "text/plain": [
       "<Figure size 1440x1080 with 12 Axes>"
      ]
     },
     "metadata": {
      "needs_background": "light"
     },
     "output_type": "display_data"
    },
    {
     "data": {
      "text/html": [
       "<div>\n",
       "<style scoped>\n",
       "    .dataframe tbody tr th:only-of-type {\n",
       "        vertical-align: middle;\n",
       "    }\n",
       "\n",
       "    .dataframe tbody tr th {\n",
       "        vertical-align: top;\n",
       "    }\n",
       "\n",
       "    .dataframe thead th {\n",
       "        text-align: right;\n",
       "    }\n",
       "</style>\n",
       "<table border=\"1\" class=\"dataframe\">\n",
       "  <thead>\n",
       "    <tr style=\"text-align: right;\">\n",
       "      <th></th>\n",
       "      <th>count</th>\n",
       "      <th>mean</th>\n",
       "      <th>std</th>\n",
       "      <th>min</th>\n",
       "      <th>25%</th>\n",
       "      <th>50%</th>\n",
       "      <th>75%</th>\n",
       "      <th>max</th>\n",
       "    </tr>\n",
       "    <tr>\n",
       "      <th>Survived</th>\n",
       "      <th></th>\n",
       "      <th></th>\n",
       "      <th></th>\n",
       "      <th></th>\n",
       "      <th></th>\n",
       "      <th></th>\n",
       "      <th></th>\n",
       "      <th></th>\n",
       "    </tr>\n",
       "  </thead>\n",
       "  <tbody>\n",
       "    <tr>\n",
       "      <th>0</th>\n",
       "      <td>656.0</td>\n",
       "      <td>23.413115</td>\n",
       "      <td>34.503259</td>\n",
       "      <td>0.0</td>\n",
       "      <td>7.8542</td>\n",
       "      <td>10.5</td>\n",
       "      <td>26.0000</td>\n",
       "      <td>263.0000</td>\n",
       "    </tr>\n",
       "    <tr>\n",
       "      <th>1</th>\n",
       "      <td>391.0</td>\n",
       "      <td>51.104051</td>\n",
       "      <td>69.066886</td>\n",
       "      <td>0.0</td>\n",
       "      <td>11.2417</td>\n",
       "      <td>26.0</td>\n",
       "      <td>63.3583</td>\n",
       "      <td>512.3292</td>\n",
       "    </tr>\n",
       "  </tbody>\n",
       "</table>\n",
       "</div>"
      ],
      "text/plain": [
       "          count       mean        std  min      25%   50%      75%       max\n",
       "Survived                                                                    \n",
       "0         656.0  23.413115  34.503259  0.0   7.8542  10.5  26.0000  263.0000\n",
       "1         391.0  51.104051  69.066886  0.0  11.2417  26.0  63.3583  512.3292"
      ]
     },
     "execution_count": 52,
     "metadata": {},
     "output_type": "execute_result"
    },
    {
     "data": {
      "image/png": "[encoded data removed]",
      "text/plain": [
       "<Figure size 864x432 with 2 Axes>"
      ]
     },
     "metadata": {
      "needs_background": "light"
     },
     "output_type": "display_data"
    }
   ],
   "source": [
    "# TODO; Insert your analysis here. Add more cells if you need to!\n",
    "train_df[\"Sex\"].value_counts()       #just counting the number of males and females\n",
    "train_df[\"Survived\"].value_counts().plot(kind=\"bar\")\n",
    "train_df[\"Survived\"].value_counts()\n",
    "train_df[\"Sex\"].value_counts().plot(kind=\"bar\")\n",
    "train_df[\"Fare\"].hist(width=6)\n",
    "#Encoding or binarizing Sex and displaying graphs\n",
    "train_df[\"Sex_enc\"] = train_df[\"Sex\"].map({\"female\":1, \"male\": 0})\n",
    "%matplotlib inline\n",
    "train_df.hist(bins=50, figsize=(20,15))\n",
    "plt.show()\n",
    "fig, axes = plt.subplots(1,2,figsize=(12,6))\n",
    "#plt.show()\n",
    "train_df[[\"Survived\", \"Fare\"]].corr()[\"Survived\"] ## checking corealation\n",
    "#train_df[[\"Survived\", \"Sex\"]].corr()[\"Survived\"] ## checking corealation\n",
    "def survival_stacked_bar(variable):\n",
    "    Died=train_df[train_df[\"Survived\"]==0][variable].value_counts()/len(train_df[\"Survived\"]==0)\n",
    "    Survived=train_df[train_df[\"Survived\"]==1][variable].value_counts()/len(train_df[\"Survived\"]==1)\n",
    "    data=pd.DataFrame([Died,Survived])\n",
    "    data.index=[\"Did not survived\",\"Survived\"]\n",
    "    data.plot(kind=\"bar\",stacked=True,title=\"Percentage\")\n",
    "    return data.head()\n",
    "#survival_stacked_bar(\"Fare\")\n",
    "train_df.groupby('Survived').Fare.hist(alpha=0.6);\n",
    "train_df.groupby('Survived').Fare.describe()"
   ]
  },
  {
   "cell_type": "markdown",
   "metadata": {},
   "source": [
    "**Q1:** Why did you threshhold/binarize the `Fare` featuer at that value?"
   ]
  },
  {
   "cell_type": "markdown",
   "metadata": {},
   "source": [
    "**A1:** The correalation factor between Fare and Survival is 0.26. It looks like poeple who have paid more than 100 have better chance of survival. But the 80 % of the concentration of the people lie between 0 and 50. I have used a mean function to caluate the Fare estimate. So after trying out a few values I estimated it to be around 26 as I obtain high test accuracy for that fare threshold."
   ]
  },
  {
   "cell_type": "code",
   "execution_count": 74,
   "metadata": {},
   "outputs": [
    {
     "data": {
      "text/html": [
       "<div>\n",
       "<style scoped>\n",
       "    .dataframe tbody tr th:only-of-type {\n",
       "        vertical-align: middle;\n",
       "    }\n",
       "\n",
       "    .dataframe tbody tr th {\n",
       "        vertical-align: top;\n",
       "    }\n",
       "\n",
       "    .dataframe thead th {\n",
       "        text-align: right;\n",
       "    }\n",
       "</style>\n",
       "<table border=\"1\" class=\"dataframe\">\n",
       "  <thead>\n",
       "    <tr style=\"text-align: right;\">\n",
       "      <th></th>\n",
       "      <th>PassengerId</th>\n",
       "      <th>Survived</th>\n",
       "      <th>HighClassTicket</th>\n",
       "      <th>IsOld</th>\n",
       "      <th>hasLargeFamily</th>\n",
       "      <th>isSingle</th>\n",
       "      <th>hadNiceCabin</th>\n",
       "      <th>isAristocrat</th>\n",
       "      <th>Fare</th>\n",
       "      <th>Sex</th>\n",
       "      <th>Sex_enc</th>\n",
       "    </tr>\n",
       "  </thead>\n",
       "  <tbody>\n",
       "    <tr>\n",
       "      <th>0</th>\n",
       "      <td>128</td>\n",
       "      <td>1</td>\n",
       "      <td>0</td>\n",
       "      <td>0</td>\n",
       "      <td>0</td>\n",
       "      <td>1</td>\n",
       "      <td>0</td>\n",
       "      <td>0</td>\n",
       "      <td>0</td>\n",
       "      <td>0</td>\n",
       "      <td>0</td>\n",
       "    </tr>\n",
       "    <tr>\n",
       "      <th>1</th>\n",
       "      <td>1037</td>\n",
       "      <td>0</td>\n",
       "      <td>0</td>\n",
       "      <td>0</td>\n",
       "      <td>0</td>\n",
       "      <td>0</td>\n",
       "      <td>0</td>\n",
       "      <td>0</td>\n",
       "      <td>0</td>\n",
       "      <td>0</td>\n",
       "      <td>0</td>\n",
       "    </tr>\n",
       "    <tr>\n",
       "      <th>2</th>\n",
       "      <td>633</td>\n",
       "      <td>1</td>\n",
       "      <td>1</td>\n",
       "      <td>0</td>\n",
       "      <td>0</td>\n",
       "      <td>1</td>\n",
       "      <td>1</td>\n",
       "      <td>0</td>\n",
       "      <td>1</td>\n",
       "      <td>0</td>\n",
       "      <td>0</td>\n",
       "    </tr>\n",
       "    <tr>\n",
       "      <th>3</th>\n",
       "      <td>1051</td>\n",
       "      <td>1</td>\n",
       "      <td>0</td>\n",
       "      <td>0</td>\n",
       "      <td>0</td>\n",
       "      <td>0</td>\n",
       "      <td>0</td>\n",
       "      <td>0</td>\n",
       "      <td>0</td>\n",
       "      <td>1</td>\n",
       "      <td>1</td>\n",
       "    </tr>\n",
       "    <tr>\n",
       "      <th>4</th>\n",
       "      <td>727</td>\n",
       "      <td>1</td>\n",
       "      <td>1</td>\n",
       "      <td>0</td>\n",
       "      <td>0</td>\n",
       "      <td>0</td>\n",
       "      <td>0</td>\n",
       "      <td>0</td>\n",
       "      <td>0</td>\n",
       "      <td>1</td>\n",
       "      <td>1</td>\n",
       "    </tr>\n",
       "  </tbody>\n",
       "</table>\n",
       "</div>"
      ],
      "text/plain": [
       "   PassengerId  Survived  HighClassTicket  IsOld  hasLargeFamily  isSingle  \\\n",
       "0          128         1                0      0               0         1   \n",
       "1         1037         0                0      0               0         0   \n",
       "2          633         1                1      0               0         1   \n",
       "3         1051         1                0      0               0         0   \n",
       "4          727         1                1      0               0         0   \n",
       "\n",
       "   hadNiceCabin  isAristocrat  Fare  Sex  Sex_enc  \n",
       "0             0             0     0    0        0  \n",
       "1             0             0     0    0        0  \n",
       "2             1             0     1    0        0  \n",
       "3             0             0     0    1        1  \n",
       "4             0             0     0    1        1  "
      ]
     },
     "execution_count": 74,
     "metadata": {},
     "output_type": "execute_result"
    }
   ],
   "source": [
    "def binarize_features(df, fare_threshold):\n",
    "    '''\n",
    "    Binarize `Sex` and `Fare` Columns of the given dataframe. \n",
    "\n",
    "    For the `Fare` column, values greater than the given `fare_threshold`\n",
    "    should be set to 1 and 0 otherwise. For the `Sex` column, map `male` to 0\n",
    "    and `female` to 1.\n",
    "    '''\n",
    "    train_df = pd.read_csv('data/titanic_train.csv')\n",
    "    \n",
    "    df['Sex'] = train_df[\"Sex\"].map({\"female\":1, \"male\": 0})  ## Sex is a discrete feature\n",
    "   # df['Fare'] = train_df[\"Fare\"].mask(train_df[\"Fare\"] < fare_threshold , 0) #TODO\n",
    "    \n",
    "    def func(x):\n",
    "        if x < fare_threshold:\n",
    "            return 0\n",
    "        else:\n",
    "            return 1\n",
    "    df['Fare'] = train_df[\"Fare\"].apply(func)\n",
    "\n",
    "    return df.astype(int)\n",
    "\n",
    "train_df = binarize_features(train_df, 26)\n",
    "train_df.head()"
   ]
  },
  {
   "cell_type": "markdown",
   "metadata": {},
   "source": [
    "Although there is a test csv, we won't always have access to labels in our test data. Instead, we hold out a portion (20%) of our training data to help us measure how generalizable the trained model is."
   ]
  },
  {
   "cell_type": "code",
   "execution_count": 75,
   "metadata": {},
   "outputs": [],
   "source": [
    "X, y = train_df.iloc[:,2:].values, train_df.iloc[:,1].values # just selecting columns\n",
    "X_train, X_holdout, y_train, y_holdout = train_test_split(X, y, test_size=0.2, random_state=422)\n"
   ]
  },
  {
   "cell_type": "markdown",
   "metadata": {},
   "source": [
    "Using `hyperparameterCurve` in `runClassifier.py`, **plot** a corresponding chart of tree depth vs accuracy and **choose** the best tree depth."
   ]
  },
  {
   "cell_type": "code",
   "execution_count": 76,
   "metadata": {},
   "outputs": [
    {
     "name": "stdout",
     "output_type": "stream",
     "text": [
      "Training classifier with maxDepth=1...\n",
      "Training accuracy 0.847073, test accuracy 0.852381\n",
      "Training classifier with maxDepth=2...\n",
      "Training accuracy 0.847073, test accuracy 0.852381\n",
      "Training classifier with maxDepth=4...\n",
      "Training accuracy 0.849462, test accuracy 0.857143\n",
      "Training classifier with maxDepth=6...\n",
      "Training accuracy 0.848268, test accuracy 0.852381\n",
      "Training classifier with maxDepth=8...\n",
      "Training accuracy 0.847073, test accuracy 0.852381\n",
      "Training classifier with maxDepth=12...\n",
      "Training accuracy 0.847073, test accuracy 0.852381\n",
      "Training classifier with maxDepth=16...\n",
      "Training accuracy 0.847073, test accuracy 0.852381\n"
     ]
    },
    {
     "data": {
      "image/png": "[encoded data removed]",
      "text/plain": [
       "<Figure size 432x288 with 1 Axes>"
      ]
     },
     "metadata": {
      "needs_background": "light"
     },
     "output_type": "display_data"
    }
   ],
   "source": [
    "# TODO: Insert code and analysis here\n",
    "curve = runClassifier.hyperparamCurve(dt.DT({}), 'maxDepth', [1,2,4,6,8,12,16], X_train, y_train, X_holdout, y_holdout)\n",
    "runClassifier.plotCurve('DT on Sentiment Data (hyperparameter)', curve)"
   ]
  },
  {
   "cell_type": "markdown",
   "metadata": {},
   "source": [
    "**Q2:** According to your analysis, what is the best tree depth? Why?"
   ]
  },
  {
   "cell_type": "markdown",
   "metadata": {},
   "source": [
    "**A2:** The best tree depth is 4 or 5 because after that the training accuracy and test accuracy both deprecate. "
   ]
  },
  {
   "cell_type": "markdown",
   "metadata": {
    "scrolled": true
   },
   "source": [
    "Now let's retrain on all the data..."
   ]
  },
  {
   "cell_type": "code",
   "execution_count": 77,
   "metadata": {},
   "outputs": [],
   "source": [
    "dt = dt.DT({'maxDepth': 4 })\n",
    "dt.train(X, y)"
   ]
  },
  {
   "cell_type": "markdown",
   "metadata": {
    "scrolled": true
   },
   "source": [
    "**Q3:** Why would we want to retrain a decision tree on all the data (`X` and `y`) and not just `X_train` and `y_train`?"
   ]
  },
  {
   "cell_type": "markdown",
   "metadata": {},
   "source": [
    "**A3:** We would want to retrain the decision tree on all data as it might increase the test accuracy as the Algorithm learns more as long as it does not overfit the data."
   ]
  },
  {
   "cell_type": "markdown",
   "metadata": {},
   "source": [
    "We can now test our decision tree the test data!"
   ]
  },
  {
   "cell_type": "code",
   "execution_count": 78,
   "metadata": {},
   "outputs": [
    {
     "name": "stdout",
     "output_type": "stream",
     "text": [
      "[[0 1 0 ... 0 0 1]\n",
      " [1 0 0 ... 0 0 0]\n",
      " [0 1 1 ... 0 1 1]\n",
      " ...\n",
      " [0 0 0 ... 0 0 1]\n",
      " [0 1 0 ... 1 0 0]\n",
      " [1 0 1 ... 0 1 1]]\n",
      "[0 0 0 0 0 0 0 0 0 0 0 1 0 0 0 1 0 0 0 1 0 1 0 0 0 1 1 1 1 0 0 1 1 0 1 1 0\n",
      " 1 0 0 1 1 1 0 0 0 1 0 1 0 0 0 0 1 0 0 0 0 0 0 1 1 1 0 1 1 1 1 1 0 0 0 0 1\n",
      " 1 0 1 0 0 0 1 0 1 0 0 0 0 0 1 0 0 1 0 1 0 1 0 0 0 0 0 1 0 1 0 1 1 0 0 0 1\n",
      " 1 1 1 0 0 0 0 1 0 0 0 0 0 0 1 1 1 1 0 0 0 1 1 0 0 1 1 0 0 1 1 0 1 0 0 1 1\n",
      " 0 0 1 0 0 0 0 0 0 0 0 0 0 0 0 0 0 1 1 0 1 1 0 1 1 0 1 1 0 0 1 1 1 0 0 0 1\n",
      " 1 1 0 0 0 1 0 0 0 1 1 0 0 0 1 1 0 1 0 0 0 0 1 1 0 0 1 0 1 1 0 0 0 1 0 0 1\n",
      " 0 0 1 0 0 1 1 1 0 0 0 1 1 1 0 0 0 0 1 1 0 1 0 1 0 1 0 0 1 0 0 0 1 0 0 0 0\n",
      " 1 1 1]\n"
     ]
    }
   ],
   "source": [
    "test_df = pd.read_csv('data/titanic_test.csv')\n",
    "#test_df.head()\n",
    "test_df['Sex'] = test_df[\"Sex\"].map({\"female\":1, \"male\": 0})\n",
    "def func(x):\n",
    "        if x < 26:\n",
    "            return 0\n",
    "        else:\n",
    "            return 1\n",
    "test_df['Fare'] = test_df[\"Fare\"].apply(func)\n",
    "test_df.head()\n",
    "#test_df = binariz_features(test_df, 12)\n",
    "#test_df.head()\n",
    "X_test, y_test = test_df.iloc[:,2:].values, test_df.iloc[:,1].values\n",
    "print(X_test)\n",
    "print(y_test)"
   ]
  },
  {
   "cell_type": "code",
   "execution_count": 80,
   "metadata": {},
   "outputs": [
    {
     "name": "stdout",
     "output_type": "stream",
     "text": [
      "Test accuracy: 0.8854961832061069\n"
     ]
    }
   ],
   "source": [
    "import dt\n",
    "h = dt.DT({'maxDepth': 4 })\n",
    "h.train(X_test, y_test)\n",
    "h.predictAll(X_test)\n",
    "y_predicted  = h.predictAll(X_test)\n",
    "acc = np.mean(y_test == y_predicted)\n",
    "print(\"Test accuracy:\", acc)"
   ]
  },
  {
   "cell_type": "code",
   "execution_count": null,
   "metadata": {},
   "outputs": [],
   "source": []
  },
  {
   "cell_type": "code",
   "execution_count": null,
   "metadata": {},
   "outputs": [],
   "source": []
  },
  {
   "cell_type": "code",
   "execution_count": null,
   "metadata": {},
   "outputs": [],
   "source": []
  },
  {
   "cell_type": "code",
   "execution_count": null,
   "metadata": {},
   "outputs": [],
   "source": []
  },
  {
   "cell_type": "code",
   "execution_count": null,
   "metadata": {},
   "outputs": [],
   "source": []
  }
 ],
 "metadata": {
  "kernelspec": {
   "display_name": "Python 3",
   "language": "python",
   "name": "python3"
  },
  "language_info": {
   "codemirror_mode": {
    "name": "ipython",
    "version": 3
   },
   "file_extension": ".py",
   "mimetype": "text/x-python",
   "name": "python",
   "nbconvert_exporter": "python",
   "pygments_lexer": "ipython3",
   "version": "3.6.6"
  }
 },
 "nbformat": 4,
 "nbformat_minor": 2
}
